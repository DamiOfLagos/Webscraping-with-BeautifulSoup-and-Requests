{
 "cells": [
  {
   "cell_type": "code",
   "execution_count": null,
   "metadata": {},
   "outputs": [],
   "source": [
    "# importing relevant libraries\n",
    "\n",
    "from bs4 import BeautifulSoup as bs\n",
    "import requests # allows you make html requests using python\n",
    "\n"
   ]
  },
  {
   "cell_type": "code",
   "execution_count": null,
   "metadata": {},
   "outputs": [],
   "source": [
    "# defining target url\n",
    "\n",
    "url = 'https://www.jumia.com.ng/fashion-14-carat-large-oval-cut-alexandrite-mens-ring-anniversary-gift-jewelry-106331757.html'"
   ]
  },
  {
   "cell_type": "code",
   "execution_count": null,
   "metadata": {},
   "outputs": [],
   "source": [
    "# import user agent\n",
    "\n",
    "headers = {\"User-Agent\": 'https://www.amazon.com/Created-Alexandrite-Diamond-Radiant-Checkerboard/dp/B0198X0JZ0/ref=sr_1_2?crid=YCPR136R6RRS&keywords=alexandrite+engagement+ring&qid=1667433536&qu=eyJxc2MiOiI3LjkxIiwicXNhIjoiNi42MCIsInFzcCI6IjMuMjgifQ%3D%3D&s=apparel&sprefix=alexandrite+engagement+ring%2Cfashion-womens-jewelry%2C279&sr=1-2'}"
   ]
  },
  {
   "cell_type": "code",
   "execution_count": null,
   "metadata": {},
   "outputs": [],
   "source": [
    "# request page: this draws all the data from the website\n",
    "\n",
    "page = requests.get(url, headers=headers)"
   ]
  },
  {
   "cell_type": "code",
   "execution_count": null,
   "metadata": {},
   "outputs": [],
   "source": [
    "# parsing the html content on the webpage into beautifulSoup\n",
    "\n",
    "soup = bs(page.content, 'html.parser')\n",
    "\n",
    "soup\n"
   ]
  },
  {
   "cell_type": "code",
   "execution_count": 53,
   "metadata": {},
   "outputs": [
    {
     "data": {
      "text/plain": [
       "<h1 class=\"-fs20 -pts -pbxs\">14 Carat Large Oval Cut Alexandrite Mens Ring Anniversary Gift Jewelry</h1>"
      ]
     },
     "execution_count": 53,
     "metadata": {},
     "output_type": "execute_result"
    }
   ],
   "source": [
    "# use find to get the title of the product\n",
    "\n",
    "title = soup.find(\"h1\").get_text().strip()\n",
    "\n",
    "title\n",
    "\n",
    "# .get_text() returns all the text in a bs tag\n",
    "# .strip() removes whitespaces"
   ]
  },
  {
   "cell_type": "code",
   "execution_count": 57,
   "metadata": {},
   "outputs": [],
   "source": [
    "# use find to get the price of the product\n",
    "\n",
    "price = soup.find(\"span\", {\"class\": \"-b -ltr -tal -fs24\"}).get_text()"
   ]
  },
  {
   "cell_type": "code",
   "execution_count": 67,
   "metadata": {},
   "outputs": [
    {
     "data": {
      "text/plain": [
       "'1,600'"
      ]
     },
     "execution_count": 67,
     "metadata": {},
     "output_type": "execute_result"
    }
   ],
   "source": [
    "# the price is not analysable in this format to I have to do some cleaning\n",
    "# Indexing is used to select the part of the text I want\n",
    "\n",
    "priceStepOne = price[2:7]\n",
    "\n",
    "priceStepOne"
   ]
  },
  {
   "cell_type": "code",
   "execution_count": 72,
   "metadata": {},
   "outputs": [
    {
     "data": {
      "text/plain": [
       "'1600'"
      ]
     },
     "execution_count": 72,
     "metadata": {},
     "output_type": "execute_result"
    }
   ],
   "source": [
    "# In order to convert the price to an integer, all non-numeric characters is removed\n",
    "\n",
    "priceStepTwo = priceStepOne.replace(\",\", \"\")\n",
    "\n",
    "priceStepTwo\n"
   ]
  },
  {
   "cell_type": "code",
   "execution_count": 71,
   "metadata": {},
   "outputs": [
    {
     "data": {
      "text/plain": [
       "1600"
      ]
     },
     "execution_count": 71,
     "metadata": {},
     "output_type": "execute_result"
    }
   ],
   "source": [
    "# price is converted to an integer and stored in the new variable\n",
    "\n",
    "convertedPrice = int(priceStepTwo)\n",
    "\n",
    "convertedPrice"
   ]
  },
  {
   "cell_type": "code",
   "execution_count": null,
   "metadata": {},
   "outputs": [],
   "source": []
  }
 ],
 "metadata": {
  "kernelspec": {
   "display_name": "Python 3.10.8 64-bit (microsoft store)",
   "language": "python",
   "name": "python3"
  },
  "language_info": {
   "codemirror_mode": {
    "name": "ipython",
    "version": 3
   },
   "file_extension": ".py",
   "mimetype": "text/x-python",
   "name": "python",
   "nbconvert_exporter": "python",
   "pygments_lexer": "ipython3",
   "version": "3.10.8"
  },
  "orig_nbformat": 4,
  "vscode": {
   "interpreter": {
    "hash": "a8c750ee15b61cc65e7baacaabbe6ab6aaf3db508c67b679920190e9fb08ec7c"
   }
  }
 },
 "nbformat": 4,
 "nbformat_minor": 2
}
